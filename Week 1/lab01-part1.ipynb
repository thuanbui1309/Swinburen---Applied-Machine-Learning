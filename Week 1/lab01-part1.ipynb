{
 "cells": [
  {
   "cell_type": "code",
   "execution_count": 1,
   "id": "aec7e4b5-9a91-4e5d-9262-eb56055e6591",
   "metadata": {},
   "outputs": [
    {
     "name": "stdout",
     "output_type": "stream",
     "text": [
      "          Name  Age         City         Occupation\n",
      "0     John Doe   28     New York  Software Engineer\n",
      "1   Jane Smith   34  Los Angeles     Data Scientist\n",
      "2  Emily Jones   24      Chicago   Graphic Designer\n",
      "3    Chris Lee   40      Houston    Project Manager\n"
     ]
    }
   ],
   "source": [
    "import pandas as pd\n",
    "# Load the CSV data into a DataFrame\n",
    "3\n",
    "df = pd.read_csv('data.csv')\n",
    "# Display the first few rows of the DataFrame\n",
    "print(df.head())"
   ]
  }
 ],
 "metadata": {
  "kernelspec": {
   "display_name": "Python 3 (ipykernel)",
   "language": "python",
   "name": "python3"
  },
  "language_info": {
   "codemirror_mode": {
    "name": "ipython",
    "version": 3
   },
   "file_extension": ".py",
   "mimetype": "text/x-python",
   "name": "python",
   "nbconvert_exporter": "python",
   "pygments_lexer": "ipython3",
   "version": "3.12.4"
  }
 },
 "nbformat": 4,
 "nbformat_minor": 5
}
